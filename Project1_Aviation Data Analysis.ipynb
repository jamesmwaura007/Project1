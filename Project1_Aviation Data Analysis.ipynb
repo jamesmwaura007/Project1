{
 "cells": [
  {
   "cell_type": "markdown",
   "metadata": {},
   "source": [
    "1. Setting Up the Environment"
   ]
  },
  {
   "cell_type": "code",
   "execution_count": 1,
   "metadata": {},
   "outputs": [],
   "source": [
    "#Import these libraries into my Jupyter notebook\n",
    "import pandas as pd\n",
    "import numpy as np\n",
    "import matplotlib.pyplot as plt\n",
    "import seaborn as sns"
   ]
  },
  {
   "cell_type": "markdown",
   "metadata": {},
   "source": [
    "2. Loading and Explore the Dataset"
   ]
  },
  {
   "cell_type": "code",
   "execution_count": 2,
   "metadata": {},
   "outputs": [],
   "source": [
    "# Loading Aviation data csv file\n",
    "df = pd.read_csv('AviationData.csv', encoding='ISO-8859-1', low_memory=False )"
   ]
  },
  {
   "cell_type": "code",
   "execution_count": 67,
   "metadata": {},
   "outputs": [
    {
     "name": "stdout",
     "output_type": "stream",
     "text": [
      "<class 'pandas.core.frame.DataFrame'>\n",
      "RangeIndex: 88889 entries, 0 to 88888\n",
      "Data columns (total 26 columns):\n",
      " #   Column                  Non-Null Count  Dtype         \n",
      "---  ------                  --------------  -----         \n",
      " 0   Event.Id                88889 non-null  object        \n",
      " 1   Investigation.Type      88889 non-null  object        \n",
      " 2   Accident.Number         88889 non-null  object        \n",
      " 3   Event.Date              88889 non-null  datetime64[ns]\n",
      " 4   Location                88889 non-null  object        \n",
      " 5   Country                 88889 non-null  object        \n",
      " 6   Latitude                34382 non-null  object        \n",
      " 7   Longitude               34373 non-null  object        \n",
      " 8   Airport.Code            88889 non-null  object        \n",
      " 9   Airport.Name            88889 non-null  object        \n",
      " 10  Injury.Severity         87889 non-null  object        \n",
      " 11  Aircraft.damage         85695 non-null  object        \n",
      " 12  Aircraft.Category       88889 non-null  object        \n",
      " 13  Registration.Number     88889 non-null  object        \n",
      " 14  Make                    88889 non-null  object        \n",
      " 15  Model                   88889 non-null  object        \n",
      " 16  Amateur.Built           88889 non-null  object        \n",
      " 17  Number.of.Engines       88889 non-null  float64       \n",
      " 18  Engine.Type             88889 non-null  object        \n",
      " 19  Purpose.of.flight       82697 non-null  object        \n",
      " 20  Total.Fatal.Injuries    88889 non-null  float64       \n",
      " 21  Total.Serious.Injuries  88889 non-null  float64       \n",
      " 22  Total.Minor.Injuries    88889 non-null  float64       \n",
      " 23  Total.Uninjured         88889 non-null  float64       \n",
      " 24  Weather.Condition       88889 non-null  object        \n",
      " 25  Broad.phase.of.flight   88889 non-null  object        \n",
      "dtypes: datetime64[ns](1), float64(5), object(20)\n",
      "memory usage: 17.6+ MB\n"
     ]
    },
    {
     "data": {
      "text/html": [
       "<div>\n",
       "<style scoped>\n",
       "    .dataframe tbody tr th:only-of-type {\n",
       "        vertical-align: middle;\n",
       "    }\n",
       "\n",
       "    .dataframe tbody tr th {\n",
       "        vertical-align: top;\n",
       "    }\n",
       "\n",
       "    .dataframe thead th {\n",
       "        text-align: right;\n",
       "    }\n",
       "</style>\n",
       "<table border=\"1\" class=\"dataframe\">\n",
       "  <thead>\n",
       "    <tr style=\"text-align: right;\">\n",
       "      <th></th>\n",
       "      <th>Number.of.Engines</th>\n",
       "      <th>Total.Fatal.Injuries</th>\n",
       "      <th>Total.Serious.Injuries</th>\n",
       "      <th>Total.Minor.Injuries</th>\n",
       "      <th>Total.Uninjured</th>\n",
       "    </tr>\n",
       "  </thead>\n",
       "  <tbody>\n",
       "    <tr>\n",
       "      <th>count</th>\n",
       "      <td>88889.000000</td>\n",
       "      <td>88889.000000</td>\n",
       "      <td>88889.000000</td>\n",
       "      <td>88889.000000</td>\n",
       "      <td>88889.000000</td>\n",
       "    </tr>\n",
       "    <tr>\n",
       "      <th>mean</th>\n",
       "      <td>1.068107</td>\n",
       "      <td>0.564761</td>\n",
       "      <td>0.240491</td>\n",
       "      <td>0.309127</td>\n",
       "      <td>4.971245</td>\n",
       "    </tr>\n",
       "    <tr>\n",
       "      <th>std</th>\n",
       "      <td>0.519181</td>\n",
       "      <td>5.126649</td>\n",
       "      <td>1.434614</td>\n",
       "      <td>2.083715</td>\n",
       "      <td>27.002011</td>\n",
       "    </tr>\n",
       "    <tr>\n",
       "      <th>min</th>\n",
       "      <td>0.000000</td>\n",
       "      <td>0.000000</td>\n",
       "      <td>0.000000</td>\n",
       "      <td>0.000000</td>\n",
       "      <td>0.000000</td>\n",
       "    </tr>\n",
       "    <tr>\n",
       "      <th>25%</th>\n",
       "      <td>1.000000</td>\n",
       "      <td>0.000000</td>\n",
       "      <td>0.000000</td>\n",
       "      <td>0.000000</td>\n",
       "      <td>0.000000</td>\n",
       "    </tr>\n",
       "    <tr>\n",
       "      <th>50%</th>\n",
       "      <td>1.000000</td>\n",
       "      <td>0.000000</td>\n",
       "      <td>0.000000</td>\n",
       "      <td>0.000000</td>\n",
       "      <td>1.000000</td>\n",
       "    </tr>\n",
       "    <tr>\n",
       "      <th>75%</th>\n",
       "      <td>1.000000</td>\n",
       "      <td>0.000000</td>\n",
       "      <td>0.000000</td>\n",
       "      <td>0.000000</td>\n",
       "      <td>2.000000</td>\n",
       "    </tr>\n",
       "    <tr>\n",
       "      <th>max</th>\n",
       "      <td>8.000000</td>\n",
       "      <td>349.000000</td>\n",
       "      <td>161.000000</td>\n",
       "      <td>380.000000</td>\n",
       "      <td>699.000000</td>\n",
       "    </tr>\n",
       "  </tbody>\n",
       "</table>\n",
       "</div>"
      ],
      "text/plain": [
       "       Number.of.Engines  Total.Fatal.Injuries  Total.Serious.Injuries  \\\n",
       "count       88889.000000          88889.000000            88889.000000   \n",
       "mean            1.068107              0.564761                0.240491   \n",
       "std             0.519181              5.126649                1.434614   \n",
       "min             0.000000              0.000000                0.000000   \n",
       "25%             1.000000              0.000000                0.000000   \n",
       "50%             1.000000              0.000000                0.000000   \n",
       "75%             1.000000              0.000000                0.000000   \n",
       "max             8.000000            349.000000              161.000000   \n",
       "\n",
       "       Total.Minor.Injuries  Total.Uninjured  \n",
       "count          88889.000000     88889.000000  \n",
       "mean               0.309127         4.971245  \n",
       "std                2.083715        27.002011  \n",
       "min                0.000000         0.000000  \n",
       "25%                0.000000         0.000000  \n",
       "50%                0.000000         1.000000  \n",
       "75%                0.000000         2.000000  \n",
       "max              380.000000       699.000000  "
      ]
     },
     "execution_count": 67,
     "metadata": {},
     "output_type": "execute_result"
    }
   ],
   "source": [
    "#Examining the dataset to understand its structure\n",
    "df.head()\n",
    "df.info()\n",
    "df.describe()"
   ]
  },
  {
   "cell_type": "markdown",
   "metadata": {},
   "source": [
    "3. Data Cleaning"
   ]
  },
  {
   "cell_type": "code",
   "execution_count": 3,
   "metadata": {},
   "outputs": [
    {
     "name": "stdout",
     "output_type": "stream",
     "text": [
      "Event.Id                      0\n",
      "Investigation.Type            0\n",
      "Accident.Number               0\n",
      "Event.Date                    0\n",
      "Location                     52\n",
      "Country                     226\n",
      "Latitude                  54507\n",
      "Longitude                 54516\n",
      "Airport.Code              38640\n",
      "Airport.Name              36099\n",
      "Injury.Severity            1000\n",
      "Aircraft.damage            3194\n",
      "Aircraft.Category         56602\n",
      "Registration.Number        1317\n",
      "Make                         63\n",
      "Model                        92\n",
      "Amateur.Built               102\n",
      "Number.of.Engines          6084\n",
      "Engine.Type                7077\n",
      "FAR.Description           56866\n",
      "Schedule                  76307\n",
      "Purpose.of.flight          6192\n",
      "Air.carrier               72241\n",
      "Total.Fatal.Injuries      11401\n",
      "Total.Serious.Injuries    12510\n",
      "Total.Minor.Injuries      11933\n",
      "Total.Uninjured            5912\n",
      "Weather.Condition          4492\n",
      "Broad.phase.of.flight     27165\n",
      "Report.Status              6381\n",
      "Publication.Date          13771\n",
      "dtype: int64\n"
     ]
    }
   ],
   "source": [
    "# I. Checking missing data / Check for missing values\n",
    "print(df.isna().sum())"
   ]
  },
  {
   "cell_type": "code",
   "execution_count": 24,
   "metadata": {},
   "outputs": [],
   "source": [
    "# II. Data Cleaning"
   ]
  },
  {
   "cell_type": "code",
   "execution_count": 14,
   "metadata": {},
   "outputs": [
    {
     "name": "stdout",
     "output_type": "stream",
     "text": [
      "<class 'pandas.core.frame.DataFrame'>\n",
      "Int64Index: 79906 entries, 0 to 88888\n",
      "Data columns (total 27 columns):\n",
      " #   Column                  Non-Null Count  Dtype         \n",
      "---  ------                  --------------  -----         \n",
      " 0   Event.Id                79906 non-null  object        \n",
      " 1   Investigation.Type      79906 non-null  object        \n",
      " 2   Accident.Number         79906 non-null  object        \n",
      " 3   Event.Date              79906 non-null  datetime64[ns]\n",
      " 4   Location                79906 non-null  object        \n",
      " 5   Country                 79906 non-null  object        \n",
      " 6   Latitude                79906 non-null  object        \n",
      " 7   Longitude               79906 non-null  object        \n",
      " 8   Airport.Code            79906 non-null  object        \n",
      " 9   Airport.Name            79906 non-null  object        \n",
      " 10  Injury.Severity         79906 non-null  object        \n",
      " 11  Aircraft.damage         79906 non-null  object        \n",
      " 12  Aircraft.Category       79906 non-null  object        \n",
      " 13  Registration.Number     79906 non-null  object        \n",
      " 14  Make                    79906 non-null  object        \n",
      " 15  Model                   79906 non-null  object        \n",
      " 16  Amateur.Built           79906 non-null  object        \n",
      " 17  Number.of.Engines       79906 non-null  float64       \n",
      " 18  Engine.Type             79906 non-null  object        \n",
      " 19  Purpose.of.flight       79906 non-null  object        \n",
      " 20  Total.Fatal.Injuries    79906 non-null  float64       \n",
      " 21  Total.Serious.Injuries  79906 non-null  float64       \n",
      " 22  Total.Minor.Injuries    79906 non-null  float64       \n",
      " 23  Total.Uninjured         79906 non-null  float64       \n",
      " 24  Weather.Condition       79906 non-null  object        \n",
      " 25  Broad.phase.of.flight   79906 non-null  object        \n",
      " 26  Year                    79906 non-null  int64         \n",
      "dtypes: datetime64[ns](1), float64(5), int64(1), object(20)\n",
      "memory usage: 17.1+ MB\n",
      "None\n"
     ]
    }
   ],
   "source": [
    "# Data Cleaning and Preparation\n",
    "\n",
    "# Handle missing values for critical columns\n",
    "# Filling missing values with appropriate defaults or placeholders\n",
    "\n",
    "# 1. Replace missing values in categorical fields with \"Unknown\"\n",
    "df['Location'].fillna('Unknown', inplace=True)\n",
    "df['Country'].fillna('Unknown', inplace=True)\n",
    "df['Aircraft.Category'].fillna('Unknown', inplace=True)\n",
    "df['Airport.Code'].fillna('Unknown', inplace=True)\n",
    "df['Airport.Name'].fillna('Unknown', inplace=True)\n",
    "df['Weather.Condition'].fillna('Unknown', inplace=True)\n",
    "df['Broad.phase.of.flight'].fillna('Unknown', inplace=True)\n",
    "df['Latitude'].fillna('Unknown', inplace=True)\n",
    "df['Longitude'].fillna('Unknown', inplace=True)\n",
    "df['Injury.Severity'].fillna('Unknown', inplace=True)\n",
    "df['Aircraft.damage'].fillna('Unknown', inplace=True)\n",
    "df['Purpose.of.flight'].fillna('Unknown', inplace=True)\n",
    "\n",
    "# 2. For numeric fields, fill with 0 or other suitable value\n",
    "df['Number.of.Engines'].fillna(0, inplace=True)\n",
    "df['Total.Fatal.Injuries'].fillna(0, inplace=True)\n",
    "df['Total.Serious.Injuries'].fillna(0, inplace=True)\n",
    "df['Total.Minor.Injuries'].fillna(0, inplace=True)\n",
    "df['Total.Uninjured'].fillna(0, inplace=True)\n",
    "\n",
    "# 3. Handle fields where a mode-based imputation is appropriate\n",
    "df['Engine.Type'].fillna(df['Engine.Type'].mode()[0], inplace=True)\n",
    "df['Amateur.Built'].fillna('No', inplace=True)\n",
    "\n",
    "# 4. Convert dates and standardize fields (as before)\n",
    "df['Event.Date'] = pd.to_datetime(df['Event.Date'], errors='coerce')\n",
    "\n",
    "# 5. Replace missing values for `Registration.Number`, `Make`, and `Model`\n",
    "df['Registration.Number'].fillna('Unknown', inplace=True)\n",
    "df['Make'].fillna('Unknown', inplace=True)\n",
    "df['Model'].fillna('Unknown', inplace=True)\n",
    "\n",
    "# 6. Drop columns with excessive missing values that are not critical for analysis\n",
    "df.drop(columns=['FAR.Description', 'Schedule', 'Air.carrier', 'Report.Status', 'Publication.Date'], inplace=True, errors='ignore')\n",
    "\n",
    "#7. Drop other countries as 70% of the data is US based\n",
    "df = df[(df['Investigation.Type'] == 'Accident') & (df['Country'] == 'United States')]\n",
    "\n",
    "#8 output cleaned data (Save cleaned data to a CSV file)\n",
    "df.to_csv('Cleaned_AviationData.csv', index=False)\n",
    "\n",
    "# Display final dataset summary\n",
    "print(df.info())\n"
   ]
  },
  {
   "cell_type": "code",
   "execution_count": 9,
   "metadata": {},
   "outputs": [
    {
     "data": {
      "text/plain": [
       "Event.Id                  0\n",
       "Investigation.Type        0\n",
       "Accident.Number           0\n",
       "Event.Date                0\n",
       "Location                  0\n",
       "Country                   0\n",
       "Latitude                  0\n",
       "Longitude                 0\n",
       "Airport.Code              0\n",
       "Airport.Name              0\n",
       "Injury.Severity           0\n",
       "Aircraft.damage           0\n",
       "Aircraft.Category         0\n",
       "Registration.Number       0\n",
       "Make                      0\n",
       "Model                     0\n",
       "Amateur.Built             0\n",
       "Number.of.Engines         0\n",
       "Engine.Type               0\n",
       "Purpose.of.flight         0\n",
       "Total.Fatal.Injuries      0\n",
       "Total.Serious.Injuries    0\n",
       "Total.Minor.Injuries      0\n",
       "Total.Uninjured           0\n",
       "Weather.Condition         0\n",
       "Broad.phase.of.flight     0\n",
       "Year                      0\n",
       "dtype: int64"
      ]
     },
     "execution_count": 9,
     "metadata": {},
     "output_type": "execute_result"
    }
   ],
   "source": [
    "df.isnull().sum()"
   ]
  },
  {
   "cell_type": "markdown",
   "metadata": {},
   "source": [
    "4. Data Analysis"
   ]
  },
  {
   "cell_type": "code",
   "execution_count": 6,
   "metadata": {},
   "outputs": [
    {
     "data": {
      "text/plain": [
       "{'Aircraft.damage': Substantial    64148\n",
       " Destroyed      18623\n",
       " NaN             3194\n",
       " Minor           2805\n",
       " Unknown          119\n",
       " Name: Aircraft.damage, dtype: int64,\n",
       " 'Injury.Severity': Non-Fatal     67357\n",
       " Fatal(1)       6167\n",
       " Fatal          5262\n",
       " Fatal(2)       3711\n",
       " Incident       2219\n",
       "               ...  \n",
       " Fatal(199)        1\n",
       " Fatal(60)         1\n",
       " Fatal(73)         1\n",
       " Fatal(64)         1\n",
       " Fatal(135)        1\n",
       " Name: Injury.Severity, Length: 110, dtype: int64,\n",
       " 'Fatal.Injuries': count    88889.000000\n",
       " mean         0.564761\n",
       " std          5.126649\n",
       " min          0.000000\n",
       " 25%          0.000000\n",
       " 50%          0.000000\n",
       " 75%          0.000000\n",
       " max        349.000000\n",
       " Name: Total.Fatal.Injuries, dtype: float64,\n",
       " 'Serious.Injuries': count    88889.000000\n",
       " mean         0.240491\n",
       " std          1.434614\n",
       " min          0.000000\n",
       " 25%          0.000000\n",
       " 50%          0.000000\n",
       " 75%          0.000000\n",
       " max        161.000000\n",
       " Name: Total.Serious.Injuries, dtype: float64,\n",
       " 'Minor.Injuries': count    88889.000000\n",
       " mean         0.309127\n",
       " std          2.083715\n",
       " min          0.000000\n",
       " 25%          0.000000\n",
       " 50%          0.000000\n",
       " 75%          0.000000\n",
       " max        380.000000\n",
       " Name: Total.Minor.Injuries, dtype: float64,\n",
       " 'Uninjured': count    88889.000000\n",
       " mean         4.971245\n",
       " std         27.002011\n",
       " min          0.000000\n",
       " 25%          0.000000\n",
       " 50%          1.000000\n",
       " 75%          2.000000\n",
       " max        699.000000\n",
       " Name: Total.Uninjured, dtype: float64}"
      ]
     },
     "execution_count": 6,
     "metadata": {},
     "output_type": "execute_result"
    }
   ],
   "source": [
    "# Summarize key risk-related variables\n",
    "\n",
    "risk_summary = {\n",
    "    \"Aircraft.damage\": df[\"Aircraft.damage\"].value_counts(dropna=False),\n",
    "    \"Injury.Severity\": df[\"Injury.Severity\"].value_counts(dropna=False),\n",
    "    \"Fatal.Injuries\": df[\"Total.Fatal.Injuries\"].describe(),\n",
    "    \"Serious.Injuries\": df[\"Total.Serious.Injuries\"].describe(),\n",
    "    \"Minor.Injuries\": df[\"Total.Minor.Injuries\"].describe(),\n",
    "    \"Uninjured\": df[\"Total.Uninjured\"].describe(),\n",
    "}\n",
    "\n",
    "risk_summary\n"
   ]
  },
  {
   "cell_type": "code",
   "execution_count": 51,
   "metadata": {},
   "outputs": [
    {
     "data": {
      "text/html": [
       "<div>\n",
       "<style scoped>\n",
       "    .dataframe tbody tr th:only-of-type {\n",
       "        vertical-align: middle;\n",
       "    }\n",
       "\n",
       "    .dataframe tbody tr th {\n",
       "        vertical-align: top;\n",
       "    }\n",
       "\n",
       "    .dataframe thead th {\n",
       "        text-align: right;\n",
       "    }\n",
       "</style>\n",
       "<table border=\"1\" class=\"dataframe\">\n",
       "  <thead>\n",
       "    <tr style=\"text-align: right;\">\n",
       "      <th></th>\n",
       "      <th>Make</th>\n",
       "      <th>Model</th>\n",
       "      <th>Total_Incidents</th>\n",
       "      <th>Avg_Fatal_Injuries</th>\n",
       "      <th>Avg_Serious_Injuries</th>\n",
       "      <th>Avg_Engines</th>\n",
       "      <th>Avg_Damage_Severity</th>\n",
       "    </tr>\n",
       "  </thead>\n",
       "  <tbody>\n",
       "    <tr>\n",
       "      <th>2361</th>\n",
       "      <td>BOEING</td>\n",
       "      <td>737-800</td>\n",
       "      <td>20</td>\n",
       "      <td>0.0</td>\n",
       "      <td>0.000000</td>\n",
       "      <td>0.000000</td>\n",
       "      <td>0.050000</td>\n",
       "    </tr>\n",
       "    <tr>\n",
       "      <th>3929</th>\n",
       "      <td>Boeing</td>\n",
       "      <td>717-200</td>\n",
       "      <td>16</td>\n",
       "      <td>0.0</td>\n",
       "      <td>0.062500</td>\n",
       "      <td>1.250000</td>\n",
       "      <td>0.250000</td>\n",
       "    </tr>\n",
       "    <tr>\n",
       "      <th>3935</th>\n",
       "      <td>Boeing</td>\n",
       "      <td>727-100</td>\n",
       "      <td>12</td>\n",
       "      <td>0.0</td>\n",
       "      <td>0.083333</td>\n",
       "      <td>2.750000</td>\n",
       "      <td>0.250000</td>\n",
       "    </tr>\n",
       "    <tr>\n",
       "      <th>7494</th>\n",
       "      <td>De Havilland</td>\n",
       "      <td>DHC-8-102</td>\n",
       "      <td>10</td>\n",
       "      <td>0.0</td>\n",
       "      <td>0.100000</td>\n",
       "      <td>2.000000</td>\n",
       "      <td>0.200000</td>\n",
       "    </tr>\n",
       "    <tr>\n",
       "      <th>306</th>\n",
       "      <td>AIRBUS</td>\n",
       "      <td>A300</td>\n",
       "      <td>9</td>\n",
       "      <td>0.0</td>\n",
       "      <td>0.000000</td>\n",
       "      <td>1.333333</td>\n",
       "      <td>0.000000</td>\n",
       "    </tr>\n",
       "    <tr>\n",
       "      <th>563</th>\n",
       "      <td>ATR</td>\n",
       "      <td>ATR72</td>\n",
       "      <td>9</td>\n",
       "      <td>0.0</td>\n",
       "      <td>0.000000</td>\n",
       "      <td>0.666667</td>\n",
       "      <td>0.000000</td>\n",
       "    </tr>\n",
       "    <tr>\n",
       "      <th>1322</th>\n",
       "      <td>Airbus Industrie</td>\n",
       "      <td>A300-600</td>\n",
       "      <td>8</td>\n",
       "      <td>0.0</td>\n",
       "      <td>0.000000</td>\n",
       "      <td>0.000000</td>\n",
       "      <td>0.000000</td>\n",
       "    </tr>\n",
       "    <tr>\n",
       "      <th>7945</th>\n",
       "      <td>EMBRAER</td>\n",
       "      <td>EMB145</td>\n",
       "      <td>8</td>\n",
       "      <td>0.0</td>\n",
       "      <td>0.000000</td>\n",
       "      <td>1.250000</td>\n",
       "      <td>0.375000</td>\n",
       "    </tr>\n",
       "    <tr>\n",
       "      <th>18508</th>\n",
       "      <td>Swearingen</td>\n",
       "      <td>SA227-AC</td>\n",
       "      <td>8</td>\n",
       "      <td>0.0</td>\n",
       "      <td>0.000000</td>\n",
       "      <td>2.000000</td>\n",
       "      <td>0.500000</td>\n",
       "    </tr>\n",
       "    <tr>\n",
       "      <th>18604</th>\n",
       "      <td>THE BOEING COMPANY</td>\n",
       "      <td>BOEING 737-8AS</td>\n",
       "      <td>7</td>\n",
       "      <td>0.0</td>\n",
       "      <td>0.000000</td>\n",
       "      <td>2.000000</td>\n",
       "      <td>0.142857</td>\n",
       "    </tr>\n",
       "  </tbody>\n",
       "</table>\n",
       "</div>"
      ],
      "text/plain": [
       "                     Make           Model  Total_Incidents  \\\n",
       "2361               BOEING         737-800               20   \n",
       "3929               Boeing         717-200               16   \n",
       "3935               Boeing         727-100               12   \n",
       "7494         De Havilland       DHC-8-102               10   \n",
       "306                AIRBUS            A300                9   \n",
       "563                   ATR           ATR72                9   \n",
       "1322     Airbus Industrie        A300-600                8   \n",
       "7945              EMBRAER          EMB145                8   \n",
       "18508          Swearingen        SA227-AC                8   \n",
       "18604  THE BOEING COMPANY  BOEING 737-8AS                7   \n",
       "\n",
       "       Avg_Fatal_Injuries  Avg_Serious_Injuries  Avg_Engines  \\\n",
       "2361                  0.0              0.000000     0.000000   \n",
       "3929                  0.0              0.062500     1.250000   \n",
       "3935                  0.0              0.083333     2.750000   \n",
       "7494                  0.0              0.100000     2.000000   \n",
       "306                   0.0              0.000000     1.333333   \n",
       "563                   0.0              0.000000     0.666667   \n",
       "1322                  0.0              0.000000     0.000000   \n",
       "7945                  0.0              0.000000     1.250000   \n",
       "18508                 0.0              0.000000     2.000000   \n",
       "18604                 0.0              0.000000     2.000000   \n",
       "\n",
       "       Avg_Damage_Severity  \n",
       "2361              0.050000  \n",
       "3929              0.250000  \n",
       "3935              0.250000  \n",
       "7494              0.200000  \n",
       "306               0.000000  \n",
       "563               0.000000  \n",
       "1322              0.000000  \n",
       "7945              0.375000  \n",
       "18508             0.500000  \n",
       "18604             0.142857  "
      ]
     },
     "execution_count": 51,
     "metadata": {},
     "output_type": "execute_result"
    }
   ],
   "source": [
    "# Grouping data by Make and Model to identify low-risk aircraft\n",
    "low_risk_analysis = df.groupby([\"Make\", \"Model\"]).agg(\n",
    "    Total_Incidents=(\"Event.Date\", \"count\"),\n",
    "    Avg_Fatal_Injuries=(\"Total.Fatal.Injuries\", \"mean\"),\n",
    "    Avg_Serious_Injuries=(\"Total.Serious.Injuries\", \"mean\"),\n",
    "    Avg_Engines=(\"Number.of.Engines\", \"mean\"),\n",
    "    Avg_Damage_Severity=(\"Aircraft.damage\", lambda x: (x == \"Substantial\").mean()),\n",
    ").reset_index()\n",
    "\n",
    "# Filtering for low-risk aircraft (low fatalities, low serious injuries, and minimal substantial damage rate)\n",
    "low_risk_aircraft = low_risk_analysis[\n",
    "    (low_risk_analysis[\"Avg_Fatal_Injuries\"] <= 0.1) &\n",
    "    (low_risk_analysis[\"Avg_Serious_Injuries\"] <= 0.1) &\n",
    "    (low_risk_analysis[\"Avg_Damage_Severity\"] <= 0.5)\n",
    "].sort_values(\"Total_Incidents\", ascending=False)\n",
    "\n",
    "low_risk_aircraft.head(10)  # Display the top 10 low-risk aircraft\n"
   ]
  },
  {
   "cell_type": "markdown",
   "metadata": {},
   "source": [
    "5. Recommendations:\n",
    "Boeing 777, Airbus A300, and Douglas DC-9-51 show particularly strong safety records with no fatalities, low damage rates, and moderate incident numbers.\n",
    "Consider starting with these models for their balance of safety and operational history.\n",
    "Investigate specific operational conditions (e.g., weather, phase of flight) for these models to ensure their suitability."
   ]
  },
  {
   "cell_type": "markdown",
   "metadata": {},
   "source": [
    "6. Visualizations"
   ]
  },
  {
   "cell_type": "code",
   "execution_count": 90,
   "metadata": {},
   "outputs": [
    {
     "data": {
      "image/png": "[encoded data removed]",
      "text/plain": [
       "<Figure size 720x432 with 1 Axes>"
      ]
     },
     "metadata": {
      "needs_background": "light"
     },
     "output_type": "display_data"
    }
   ],
   "source": [
    "# 1. Barchat for Top 10 Aircraft Makes by Number of Accidents\n",
    "top_makes = df['Make'].value_counts().head(10)\n",
    "\n",
    "# Plotting the bar chart\n",
    "plt.figure(figsize=(10, 6))\n",
    "top_makes.plot(kind='bar', color='skyblue')\n",
    "plt.title('Top 10 Aircraft Makes by Number of Accidents', fontsize=14)\n",
    "plt.xlabel('Aircraft Make', fontsize=12)\n",
    "plt.ylabel('Number of Accidents', fontsize=12)\n",
    "plt.xticks(rotation=45, ha='right', fontsize=10)\n",
    "plt.tight_layout()\n",
    "\n",
    "# Display the plot\n",
    "plt.show()\n"
   ]
  },
  {
   "cell_type": "code",
   "execution_count": 91,
   "metadata": {},
   "outputs": [
    {
     "data": {
      "image/png": "[encoded data removed]",
      "text/plain": [
       "<Figure size 720x432 with 1 Axes>"
      ]
     },
     "metadata": {
      "needs_background": "light"
     },
     "output_type": "display_data"
    }
   ],
   "source": [
    "\n",
    "#Accidents By Weather Conditions - Barchat\n",
    "weather_accidents = df['Weather.Condition'].value_counts()\n",
    "\n",
    "# Plotting the bar chart\n",
    "plt.figure(figsize=(10, 6))\n",
    "weather_accidents.plot(kind='bar', color=['skyblue', 'orange', 'green', 'red'])\n",
    "plt.title('Accidents by Weather Conditions', fontsize=16)\n",
    "plt.xlabel('Weather Condition', fontsize=14)\n",
    "plt.ylabel('Number of Accidents', fontsize=14)\n",
    "plt.xticks(rotation=45, fontsize=12)\n",
    "plt.yticks(fontsize=12)\n",
    "plt.grid(axis='y', linestyle='--', alpha=0.7)\n",
    "plt.tight_layout()\n",
    "\n",
    "# Show the plot\n",
    "plt.show()\n",
    "\n"
   ]
  },
  {
   "cell_type": "code",
   "execution_count": 93,
   "metadata": {},
   "outputs": [
    {
     "data": {
      "image/png": "[encoded data removed]",
      "text/plain": [
       "<Figure size 720x432 with 1 Axes>"
      ]
     },
     "metadata": {
      "needs_background": "light"
     },
     "output_type": "display_data"
    }
   ],
   "source": [
    "# Fatality Rate By Engines\n",
    "# 1. Ensure relevant columns are numeric\n",
    "df['Total.Fatal.Injuries'] = pd.to_numeric(df['Total.Fatal.Injuries'], errors='coerce')\n",
    "df['Number.of.Engines'] = pd.to_numeric(df['Number.of.Engines'], errors='coerce')\n",
    "\n",
    "# 2. Group data by number of engines and calculate totals\n",
    "engines_grouped = df.groupby('Number.of.Engines').agg(\n",
    "    Total_Fatalities=('Total.Fatal.Injuries', 'sum'),\n",
    "    Total_Incidents=('Event.Id', 'count')  # Assuming 'Event.Id' is unique per incident\n",
    ").reset_index()\n",
    "\n",
    "# 3. Calculate fatality rate\n",
    "engines_grouped['Fatality_Rate'] = engines_grouped['Total_Fatalities'] / engines_grouped['Total_Incidents']\n",
    "\n",
    "# 4. Plot the fatality rate\n",
    "plt.figure(figsize=(10, 6))\n",
    "plt.bar(engines_grouped['Number.of.Engines'], engines_grouped['Fatality_Rate'], color='crimson')\n",
    "plt.title('Fatality Rate by Number of Engines', fontsize=16)\n",
    "plt.xlabel('Number of Engines', fontsize=14)\n",
    "plt.ylabel('Fatality Rate', fontsize=14)\n",
    "plt.xticks(fontsize=12)\n",
    "plt.yticks(fontsize=12)\n",
    "plt.grid(axis='y', linestyle='--', alpha=0.7)\n",
    "plt.tight_layout()\n",
    "\n",
    "# Show the plot\n",
    "plt.show()\n"
   ]
  },
  {
   "cell_type": "code",
   "execution_count": 18,
   "metadata": {},
   "outputs": [
    {
     "data": {
      "image/png": "[encoded data removed]",
      "text/plain": [
       "<Figure size 864x576 with 1 Axes>"
      ]
     },
     "metadata": {
      "needs_background": "light"
     },
     "output_type": "display_data"
    }
   ],
   "source": [
    "# Yearly accident trends  - Line plot\n",
    "#Ensure 'Event.Date' is in datetime format\n",
    "df['Event.Date'] = pd.to_datetime(df['Event.Date'], errors='coerce')\n",
    "\n",
    "# Extract the year from the Event.Date column\n",
    "df['Year'] = df['Event.Date'].dt.year\n",
    "\n",
    "# Group data by year and count the number of accidents\n",
    "yearly_accidents = df.groupby('Year').size()\n",
    "\n",
    "# Plot the yearly accident trends with a range of 10 years\n",
    "plt.figure(figsize=(12, 8))\n",
    "plt.plot(\n",
    "    yearly_accidents.index,\n",
    "    yearly_accidents.values,\n",
    "    marker='o',\n",
    "    color='b',\n",
    "    linestyle='-',\n",
    "    linewidth=2,\n",
    "    markersize=5\n",
    ")\n",
    "plt.title('Yearly Accident Trends (10-Year Ranges)', fontsize=16)\n",
    "plt.xlabel('Year', fontsize=14)\n",
    "plt.ylabel('Number of Accidents', fontsize=14)\n",
    "plt.xticks(ticks=range(int(yearly_accidents.index.min()), int(yearly_accidents.index.max()) + 1, 10), fontsize=12)\n",
    "plt.yticks(fontsize=12)\n",
    "plt.grid(axis='y', linestyle='--', alpha=0.7)\n",
    "plt.tight_layout()\n",
    "plt.show()\n",
    "\n"
   ]
  },
  {
   "cell_type": "code",
   "execution_count": 13,
   "metadata": {},
   "outputs": [
    {
     "data": {
      "image/png": "[encoded data removed]",
      "text/plain": [
       "<Figure size 720x432 with 1 Axes>"
      ]
     },
     "metadata": {
      "needs_background": "light"
     },
     "output_type": "display_data"
    }
   ],
   "source": [
    "#Accidents By Flight Phase\n",
    "# Count the number of accidents by flight phase\n",
    "flight_phase_counts = df['Broad.phase.of.flight'].value_counts()\n",
    "\n",
    "# Plot a bar chart of accidents by flight phase\n",
    "plt.figure(figsize=(10, 6))\n",
    "flight_phase_counts.plot(kind='bar', color='skyblue', edgecolor='black')\n",
    "plt.title('Number of Accidents by Flight Phase', fontsize=16)\n",
    "plt.xlabel('Flight Phase', fontsize=14)\n",
    "plt.ylabel('Number of Accidents', fontsize=14)\n",
    "plt.xticks(rotation=45, ha='right', fontsize=12)\n",
    "plt.grid(axis='y', linestyle='--', alpha=0.7)\n",
    "plt.tight_layout()\n",
    "plt.show()\n"
   ]
  },
  {
   "cell_type": "code",
   "execution_count": null,
   "metadata": {},
   "outputs": [],
   "source": []
  }
 ],
 "metadata": {
  "kernelspec": {
   "display_name": "Python 3",
   "language": "python",
   "name": "python3"
  },
  "language_info": {
   "codemirror_mode": {
    "name": "ipython",
    "version": 3
   },
   "file_extension": ".py",
   "mimetype": "text/x-python",
   "name": "python",
   "nbconvert_exporter": "python",
   "pygments_lexer": "ipython3",
   "version": "3.8.5"
  }
 },
 "nbformat": 4,
 "nbformat_minor": 4
}
